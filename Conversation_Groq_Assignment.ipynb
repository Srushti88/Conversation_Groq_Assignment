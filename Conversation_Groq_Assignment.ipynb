{
  "cells": [
    {
      "cell_type": "markdown",
      "id": "d2164699",
      "metadata": {
        "id": "d2164699"
      },
      "source": [
        "\n",
        "# Conversation Management & Classification using Groq API (OpenAI-compatible)\n"
      ]
    },
    {
      "cell_type": "markdown",
      "id": "ee770688",
      "metadata": {
        "id": "ee770688"
      },
      "source": [
        "\n",
        "## Setup instructions\n",
        "\n",
        "1. This notebook uses only standard Python packages and `requests`. For JSON schema validation we use `jsonschema` (installed below).\n",
        "2. **DO NOT** store API keys in the notebook. Instead, in Colab set them via:\n",
        "```python\n",
        "import os\n",
        "os.environ['GROQ_API_KEY'] = \"your_groq_api_key_here\"\n",
        "# or os.environ['OPENAI_API_KEY'] = \"...\" if using OpenAI-compatible variable names\n",
        "```\n",
        "3. The notebook has `MOCK_MODE = True` by default so you can run and verify outputs without any external calls.\n",
        "4. To run real requests against Groq/OpenAI-compatible endpoints, set `MOCK_MODE = False` and set environment variables as above.\n"
      ]
    },
    {
      "cell_type": "code",
      "execution_count": 26,
      "id": "675314a7",
      "metadata": {
        "id": "675314a7"
      },
      "outputs": [],
      "source": [
        "!pip install --quiet jsonschema"
      ]
    },
    {
      "cell_type": "code",
      "source": [
        "!pip install openai"
      ],
      "metadata": {
        "colab": {
          "base_uri": "https://localhost:8080/"
        },
        "id": "If6sSLjq6-pe",
        "outputId": "24ee0b6e-6465-4ff1-f924-ec9c8c0172f9"
      },
      "id": "If6sSLjq6-pe",
      "execution_count": 27,
      "outputs": [
        {
          "output_type": "stream",
          "name": "stdout",
          "text": [
            "Requirement already satisfied: openai in /usr/local/lib/python3.12/dist-packages (1.107.0)\n",
            "Requirement already satisfied: anyio<5,>=3.5.0 in /usr/local/lib/python3.12/dist-packages (from openai) (4.10.0)\n",
            "Requirement already satisfied: distro<2,>=1.7.0 in /usr/local/lib/python3.12/dist-packages (from openai) (1.9.0)\n",
            "Requirement already satisfied: httpx<1,>=0.23.0 in /usr/local/lib/python3.12/dist-packages (from openai) (0.28.1)\n",
            "Requirement already satisfied: jiter<1,>=0.4.0 in /usr/local/lib/python3.12/dist-packages (from openai) (0.10.0)\n",
            "Requirement already satisfied: pydantic<3,>=1.9.0 in /usr/local/lib/python3.12/dist-packages (from openai) (2.11.7)\n",
            "Requirement already satisfied: sniffio in /usr/local/lib/python3.12/dist-packages (from openai) (1.3.1)\n",
            "Requirement already satisfied: tqdm>4 in /usr/local/lib/python3.12/dist-packages (from openai) (4.67.1)\n",
            "Requirement already satisfied: typing-extensions<5,>=4.11 in /usr/local/lib/python3.12/dist-packages (from openai) (4.15.0)\n",
            "Requirement already satisfied: idna>=2.8 in /usr/local/lib/python3.12/dist-packages (from anyio<5,>=3.5.0->openai) (3.10)\n",
            "Requirement already satisfied: certifi in /usr/local/lib/python3.12/dist-packages (from httpx<1,>=0.23.0->openai) (2025.8.3)\n",
            "Requirement already satisfied: httpcore==1.* in /usr/local/lib/python3.12/dist-packages (from httpx<1,>=0.23.0->openai) (1.0.9)\n",
            "Requirement already satisfied: h11>=0.16 in /usr/local/lib/python3.12/dist-packages (from httpcore==1.*->httpx<1,>=0.23.0->openai) (0.16.0)\n",
            "Requirement already satisfied: annotated-types>=0.6.0 in /usr/local/lib/python3.12/dist-packages (from pydantic<3,>=1.9.0->openai) (0.7.0)\n",
            "Requirement already satisfied: pydantic-core==2.33.2 in /usr/local/lib/python3.12/dist-packages (from pydantic<3,>=1.9.0->openai) (2.33.2)\n",
            "Requirement already satisfied: typing-inspection>=0.4.0 in /usr/local/lib/python3.12/dist-packages (from pydantic<3,>=1.9.0->openai) (0.4.1)\n"
          ]
        }
      ]
    },
    {
      "cell_type": "code",
      "source": [
        "from dotenv import load_dotenv\n",
        "import os\n",
        "import openai\n",
        "\n",
        "# Load environment variables from .env file\n",
        "load_dotenv()\n",
        "\n",
        "# Get API key safely\n",
        "openai.api_key = os.getenv(\"GROQ_API_KEY\")\n",
        "openai.api_base = \"https://api.groq.com/v1\"\n"
      ],
      "metadata": {
        "id": "WVhjFb-x-2nK"
      },
      "id": "WVhjFb-x-2nK",
      "execution_count": 33,
      "outputs": []
    },
    {
      "cell_type": "code",
      "source": [
        "import os\n",
        "\n",
        "print(\"Groq API key set:\", bool(os.environ.get(\"GROQ_API_KEY\")))\n"
      ],
      "metadata": {
        "colab": {
          "base_uri": "https://localhost:8080/"
        },
        "id": "AhpG08vP4Sz3",
        "outputId": "b2ada6bd-59a7-4ec9-b43c-b1cb9550967d"
      },
      "id": "AhpG08vP4Sz3",
      "execution_count": 34,
      "outputs": [
        {
          "output_type": "stream",
          "name": "stdout",
          "text": [
            "Groq API key set: True\n"
          ]
        }
      ]
    },
    {
      "cell_type": "code",
      "source": [
        "pip install groq\n"
      ],
      "metadata": {
        "colab": {
          "base_uri": "https://localhost:8080/"
        },
        "id": "MtaBVrRmzeTD",
        "outputId": "da1672bf-a50e-4746-85cb-31195ce6ba27"
      },
      "id": "MtaBVrRmzeTD",
      "execution_count": 35,
      "outputs": [
        {
          "output_type": "stream",
          "name": "stdout",
          "text": [
            "Requirement already satisfied: groq in /usr/local/lib/python3.12/dist-packages (0.31.1)\n",
            "Requirement already satisfied: anyio<5,>=3.5.0 in /usr/local/lib/python3.12/dist-packages (from groq) (4.10.0)\n",
            "Requirement already satisfied: distro<2,>=1.7.0 in /usr/local/lib/python3.12/dist-packages (from groq) (1.9.0)\n",
            "Requirement already satisfied: httpx<1,>=0.23.0 in /usr/local/lib/python3.12/dist-packages (from groq) (0.28.1)\n",
            "Requirement already satisfied: pydantic<3,>=1.9.0 in /usr/local/lib/python3.12/dist-packages (from groq) (2.11.7)\n",
            "Requirement already satisfied: sniffio in /usr/local/lib/python3.12/dist-packages (from groq) (1.3.1)\n",
            "Requirement already satisfied: typing-extensions<5,>=4.10 in /usr/local/lib/python3.12/dist-packages (from groq) (4.15.0)\n",
            "Requirement already satisfied: idna>=2.8 in /usr/local/lib/python3.12/dist-packages (from anyio<5,>=3.5.0->groq) (3.10)\n",
            "Requirement already satisfied: certifi in /usr/local/lib/python3.12/dist-packages (from httpx<1,>=0.23.0->groq) (2025.8.3)\n",
            "Requirement already satisfied: httpcore==1.* in /usr/local/lib/python3.12/dist-packages (from httpx<1,>=0.23.0->groq) (1.0.9)\n",
            "Requirement already satisfied: h11>=0.16 in /usr/local/lib/python3.12/dist-packages (from httpcore==1.*->httpx<1,>=0.23.0->groq) (0.16.0)\n",
            "Requirement already satisfied: annotated-types>=0.6.0 in /usr/local/lib/python3.12/dist-packages (from pydantic<3,>=1.9.0->groq) (0.7.0)\n",
            "Requirement already satisfied: pydantic-core==2.33.2 in /usr/local/lib/python3.12/dist-packages (from pydantic<3,>=1.9.0->groq) (2.33.2)\n",
            "Requirement already satisfied: typing-inspection>=0.4.0 in /usr/local/lib/python3.12/dist-packages (from pydantic<3,>=1.9.0->groq) (0.4.1)\n"
          ]
        }
      ]
    },
    {
      "cell_type": "code",
      "source": [
        "from groq import Groq\n",
        "import re\n",
        "from typing import List, Dict\n",
        "from dotenv import load_dotenv\n",
        "import os\n",
        "\n",
        "# Load environment variables\n",
        "load_dotenv()\n",
        "\n",
        "# Initialize Groq client with key from environment variable\n",
        "client = Groq(api_key=os.getenv(\"GROQ_API_KEY\"))\n",
        "\n",
        "\n",
        "class ConversationManager:\n",
        "    def __init__(self, summarize_after_k_runs: int = 3):\n",
        "        self.history: List[Dict[str, str]] = []\n",
        "        self.run_count = 0\n",
        "        self.summarize_after_k_runs = summarize_after_k_runs\n",
        "\n",
        "    def add_message(self, role: str, text: str):\n",
        "        assert role in ('user', 'assistant'), \"role must be 'user' or 'assistant'\"\n",
        "        self.history.append({'role': role, 'text': text})\n",
        "        self.run_count += 1\n",
        "\n",
        "        if self.summarize_after_k_runs > 0 and (self.run_count % self.summarize_after_k_runs) == 0:\n",
        "            summary = self.summarize_history()\n",
        "            self.history = [{'role': 'assistant', 'text': f'Conversation summary: {summary}'}]\n",
        "\n",
        "    def summarize_history(self) -> str:\n",
        "        if not self.history:\n",
        "            return \"\"\n",
        "        messages = [{\"role\": \"system\", \"content\": \"Summarize the conversation concisely.\"}] + \\\n",
        "                   [{\"role\": m[\"role\"], \"content\": m[\"text\"]} for m in self.history]\n",
        "        response = client.chat.completions.create(\n",
        "            model=\"llama-3.1-8b-instant\",\n",
        "            messages=messages\n",
        "        )\n",
        "        summary = response.choices[0].message.content\n",
        "        return summary.strip()\n",
        "\n",
        "    def get_history(self, limit_turns: int = None, limit_chars: int = None, limit_words: int = None) -> List[Dict[str, str]]:\n",
        "        hist = list(self.history)\n",
        "        if limit_turns is not None:\n",
        "            hist = hist[-limit_turns:]\n",
        "        elif limit_words is not None:\n",
        "            joined = ' '.join([m['text'] for m in hist])\n",
        "            words = joined.split()\n",
        "            if len(words) > limit_words:\n",
        "                words = words[-limit_words:]\n",
        "            hist = [{'role': 'assistant', 'text': ' '.join(words)}]\n",
        "        elif limit_chars is not None:\n",
        "            joined = ' '.join([m['text'] for m in hist])\n",
        "            if len(joined) > limit_chars:\n",
        "                joined = joined[-limit_chars:]\n",
        "            hist = [{'role': 'assistant', 'text': joined}]\n",
        "        return hist\n",
        "\n",
        "    def show_history(self):\n",
        "        for i, m in enumerate(self.history, 1):\n",
        "            print(f\"{i}. [{m['role']}] {m['text'][:200]}{'...' if len(m['text']) > 200 else ''}\")\n",
        "\n",
        "def demo_conversation_demo():\n",
        "    cm = ConversationManager(summarize_after_k_runs=3)\n",
        "    samples = [\n",
        "        ('user', 'Hi, I want to book a flight to Mumbai next month.'),\n",
        "        ('assistant', 'Sure — what dates are you considering and from which city?'),\n",
        "        ('user', 'I am flexible but prefer early May; I am flying from Delhi.'),\n",
        "        ('assistant', 'Got it — do you have any airline preference?'),\n",
        "        ('user', 'No, I just want a cheap option. Also, I will need a vegetarian meal.'),\n",
        "        ('assistant', 'Okay, I will look for the cheapest fares with veg meal option.'),\n",
        "        ('user', 'Thanks! Also share hotel suggestions near Colaba, please.'),\n",
        "        ('assistant', 'Will do — what is your budget per night?'),\n",
        "    ]\n",
        "\n",
        "    for role, text in samples:\n",
        "        cm.add_message(role, text)\n",
        "        print(\"\\n-- After adding message --\")\n",
        "        cm.show_history()\n",
        "\n",
        "    print(\"\\n=== Final history (full) ===\")\n",
        "    cm.show_history()\n",
        "    print(\"\\n=== Demonstrate truncation by turns (last 3 turns) ===\")\n",
        "    for m in cm.get_history(limit_turns=3):\n",
        "        print(m)\n",
        "    print(\"\\n=== Demonstrate truncation by chars (last 120 chars) ===\")\n",
        "    for m in cm.get_history(limit_chars=120):\n",
        "        print(m)\n",
        "    print(\"\\n=== Demonstrate truncation by words (last 20 words) ===\")\n",
        "    for m in cm.get_history(limit_words=20):\n",
        "        print(m)\n",
        "\n",
        "if __name__ == \"__main__\":\n",
        "    print(\"Running conversation demo with REAL Groq API using a supported model...\\n\")\n",
        "    demo_conversation_demo()\n"
      ],
      "metadata": {
        "colab": {
          "base_uri": "https://localhost:8080/"
        },
        "id": "omcAOHCM1V6d",
        "outputId": "49974afd-1598-47ee-b8a6-db65d66711e9"
      },
      "id": "omcAOHCM1V6d",
      "execution_count": 37,
      "outputs": [
        {
          "output_type": "stream",
          "name": "stdout",
          "text": [
            "Running conversation demo with REAL Groq API using a supported model...\n",
            "\n",
            "\n",
            "-- After adding message --\n",
            "1. [user] Hi, I want to book a flight to Mumbai next month.\n",
            "\n",
            "-- After adding message --\n",
            "1. [user] Hi, I want to book a flight to Mumbai next month.\n",
            "2. [assistant] Sure — what dates are you considering and from which city?\n",
            "\n",
            "-- After adding message --\n",
            "1. [assistant] Conversation summary: Early May is a good time to fly to Mumbai, the weather is generally pleasant. \n",
            "\n",
            "As you're flying from Delhi, it's a relatively short domestic flight within India. I can suggest b...\n",
            "\n",
            "-- After adding message --\n",
            "1. [assistant] Conversation summary: Early May is a good time to fly to Mumbai, the weather is generally pleasant. \n",
            "\n",
            "As you're flying from Delhi, it's a relatively short domestic flight within India. I can suggest b...\n",
            "2. [assistant] Got it — do you have any airline preference?\n",
            "\n",
            "-- After adding message --\n",
            "1. [assistant] Conversation summary: Early May is a good time to fly to Mumbai, the weather is generally pleasant. \n",
            "\n",
            "As you're flying from Delhi, it's a relatively short domestic flight within India. I can suggest b...\n",
            "2. [assistant] Got it — do you have any airline preference?\n",
            "3. [user] No, I just want a cheap option. Also, I will need a vegetarian meal.\n",
            "\n",
            "-- After adding message --\n",
            "1. [assistant] Conversation summary: Please let me know your travel dates and the class of travel (economy, premium economy, etc.) if you have any particular preference.\n",
            "\n",
            "-- After adding message --\n",
            "1. [assistant] Conversation summary: Please let me know your travel dates and the class of travel (economy, premium economy, etc.) if you have any particular preference.\n",
            "2. [user] Thanks! Also share hotel suggestions near Colaba, please.\n",
            "\n",
            "-- After adding message --\n",
            "1. [assistant] Conversation summary: Please let me know your travel dates and the class of travel (economy, premium economy, etc.) if you have any particular preference.\n",
            "2. [user] Thanks! Also share hotel suggestions near Colaba, please.\n",
            "3. [assistant] Will do — what is your budget per night?\n",
            "\n",
            "=== Final history (full) ===\n",
            "1. [assistant] Conversation summary: Please let me know your travel dates and the class of travel (economy, premium economy, etc.) if you have any particular preference.\n",
            "2. [user] Thanks! Also share hotel suggestions near Colaba, please.\n",
            "3. [assistant] Will do — what is your budget per night?\n",
            "\n",
            "=== Demonstrate truncation by turns (last 3 turns) ===\n",
            "{'role': 'assistant', 'text': 'Conversation summary: Please let me know your travel dates and the class of travel (economy, premium economy, etc.) if you have any particular preference.'}\n",
            "{'role': 'user', 'text': 'Thanks! Also share hotel suggestions near Colaba, please.'}\n",
            "{'role': 'assistant', 'text': 'Will do — what is your budget per night?'}\n",
            "\n",
            "=== Demonstrate truncation by chars (last 120 chars) ===\n",
            "{'role': 'assistant', 'text': 'articular preference. Thanks! Also share hotel suggestions near Colaba, please. Will do — what is your budget per night?'}\n",
            "\n",
            "=== Demonstrate truncation by words (last 20 words) ===\n",
            "{'role': 'assistant', 'text': 'any particular preference. Thanks! Also share hotel suggestions near Colaba, please. Will do — what is your budget per night?'}\n"
          ]
        }
      ]
    },
    {
      "cell_type": "code",
      "execution_count": 25,
      "id": "d7972515",
      "metadata": {
        "colab": {
          "base_uri": "https://localhost:8080/"
        },
        "id": "d7972515",
        "outputId": "8897c975-0666-47ec-9eb6-ba26de177c98"
      },
      "outputs": [
        {
          "output_type": "stream",
          "name": "stdout",
          "text": [
            "\n",
            "--- Chat #1 ---\n",
            "Hi, my name is Anuradha Sharma. You can reach me at anuradha.sharma@example.com or +919876543210. I'm 24 years old and currently in Pune.\n",
            "Extracted: {'name': 'Anuradha Sharma', 'email': 'anuradha.sharma@example.com', 'phone': '+919876543210', 'location': 'Pune', 'age': 24}\n",
            "Validation: OK\n",
            "\n",
            "--- Chat #2 ---\n",
            "Hello! I'm Rohan. rohan1995@mail.com. Phone: 9876543210. I'm from Mumbai and 28 years old.\n",
            "Extracted: {'name': 'Rohan', 'email': 'rohan1995@mail.com', 'phone': '+919876543210', 'location': 'Mumbai', 'age': 28}\n",
            "Validation: OK\n",
            "\n",
            "--- Chat #3 ---\n",
            "Hey there — this is Priya. priya.contact@mail.co.in. Lives in New Delhi. Age 30.\n",
            "Extracted: {'name': 'Priya', 'email': 'priya.contact@mail.co.in', 'phone': None, 'location': 'New Delhi', 'age': 30}\n",
            "Validation: OK\n"
          ]
        }
      ],
      "source": [
        "import re\n",
        "from pydantic import BaseModel, Field\n",
        "from typing import Optional\n",
        "\n",
        "class PersonSchema(BaseModel):\n",
        "    name: str = Field(..., description=\"The person's full name\")\n",
        "    email: Optional[str] = Field(None, description=\"The person's email\")\n",
        "    phone: Optional[str] = Field(None, description=\"The person's phone number\")\n",
        "    location: Optional[str] = Field(None, description=\"The person's city or location\")\n",
        "    age: Optional[int] = Field(None, description=\"The person's age\")\n",
        "\n",
        "def extract_person_info(text: str) -> PersonSchema:\n",
        "    # --- Name ---\n",
        "    name_match = re.search(r\"(?:my name is|I'm|I am|this is)\\s+([A-Z][a-z]+(?:\\s+[A-Z][a-z]+)*)\", text, re.I)\n",
        "    name = name_match.group(1).strip() if name_match else \"Unknown\"\n",
        "\n",
        "    # --- Email ---\n",
        "    email_match = re.search(r\"[\\w\\.-]+@[\\w\\.-]+\\.\\w+\", text)\n",
        "    email = email_match.group(0).rstrip(\".\") if email_match else None\n",
        "\n",
        "    # --- Phone ---\n",
        "    phone_match = re.search(r\"(?:\\+91)?\\d{10}\", text)\n",
        "    phone = None\n",
        "    if phone_match:\n",
        "        phone = phone_match.group(0)\n",
        "        if not phone.startswith(\"+91\"):\n",
        "            phone = \"+91\" + phone\n",
        "\n",
        "    # --- Location ---\n",
        "    loc_match = re.search(r\"(?:in|from|Lives in|currently in)\\s+([A-Z][a-z]+(?:\\s+[A-Z][a-z]+)*)\", text, re.I)\n",
        "    location = loc_match.group(1).strip() if loc_match else None\n",
        "    if location:\n",
        "        location = re.sub(r\"\\b(and|currently|now)\\b.*\", \"\", location).strip()\n",
        "\n",
        "    # --- Age ---\n",
        "    age_match = re.search(r\"\\b(\\d{1,2})(?=\\s*(?:years old|yrs|yo|yrs old))\", text, re.I)\n",
        "    if not age_match:\n",
        "        # fallback: catch \"Age <number>\"\n",
        "        age_match = re.search(r\"Age\\s+(\\d{1,2})\", text, re.I)\n",
        "    age = int(age_match.group(1)) if age_match else None\n",
        "\n",
        "    return PersonSchema(name=name, email=email, phone=phone, location=location, age=age)\n",
        "\n",
        "# --- Tests ---\n",
        "if __name__ == \"__main__\":\n",
        "    chats = [\n",
        "        \"Hi, my name is Anuradha Sharma. You can reach me at anuradha.sharma@example.com or +919876543210. I'm 24 years old and currently in Pune.\",\n",
        "        \"Hello! I'm Rohan. rohan1995@mail.com. Phone: 9876543210. I'm from Mumbai and 28 years old.\",\n",
        "        \"Hey there — this is Priya. priya.contact@mail.co.in. Lives in New Delhi. Age 30.\"\n",
        "    ]\n",
        "    for i, chat in enumerate(chats, 1):\n",
        "        extracted = extract_person_info(chat)\n",
        "        print(f\"\\n--- Chat #{i} ---\")\n",
        "        print(chat)\n",
        "        print(\"Extracted:\", extracted.model_dump())\n",
        "        print(\"Validation: OK\")\n"
      ]
    }
  ],
  "metadata": {
    "colab": {
      "provenance": []
    },
    "language_info": {
      "name": "python"
    },
    "kernelspec": {
      "name": "python3",
      "display_name": "Python 3"
    }
  },
  "nbformat": 4,
  "nbformat_minor": 5
}